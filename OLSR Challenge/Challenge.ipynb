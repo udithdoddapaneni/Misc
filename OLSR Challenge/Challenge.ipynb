{
 "cells": [
  {
   "cell_type": "code",
   "execution_count": 34,
   "metadata": {},
   "outputs": [],
   "source": [
    "import pandas as pd\n",
    "import numpy as np\n",
    "import matplotlib.pyplot as plt\n",
    "from warnings import filterwarnings\n",
    "\n",
    "filterwarnings(\"ignore\")"
   ]
  },
  {
   "cell_type": "code",
   "execution_count": 35,
   "metadata": {},
   "outputs": [],
   "source": [
    "file = pd.read_csv(\"cancer_reg.csv\", encoding='latin-1')\n",
    "\n",
    "\n",
    "def process(s):\n",
    "    s = ''.join(s)\n",
    "    s = s.split(']')\n",
    "    s = ''.join(s)\n",
    "    s = s.split('[')\n",
    "    s = ''.join(s)\n",
    "    s = s.split(')')\n",
    "    s = ''.join(s)\n",
    "    s = s.split(',')\n",
    "    return s\n",
    "\n",
    "d = {}\n",
    "j = 0\n",
    "for i in file[\"Geography\"]:\n",
    "    if i in d:\n",
    "        continue\n",
    "    else:\n",
    "        d[i] = j\n",
    "        j += 1\n",
    "# binnedInc\n",
    "\n",
    "arr = np.zeros((3047, 34), dtype=np.float32)\n",
    "y = np.zeros(3047)\n",
    "for i in range(3047):\n",
    "    j = 0\n",
    "    for col in file.columns:\n",
    "        if col == \"TARGET_deathRate\":\n",
    "            y[i] = file[col][i]\n",
    "        elif col == \"binnedInc\":\n",
    "            s = file[col][i].split('(')\n",
    "            s = process(s)\n",
    "\n",
    "            a,b = map(float, s)\n",
    "            arr[i][j] = a\n",
    "            arr[i][j+1] = b\n",
    "            j += 2\n",
    "        else:\n",
    "            if col == \"Geography\":\n",
    "                arr[i][j] = d[file[col][i]]\n",
    "                j += 1\n",
    "                continue\n",
    "            arr[i][j] = file[col][i]\n",
    "            j += 1\n",
    "file = None # dereferencing"
   ]
  },
  {
   "cell_type": "code",
   "execution_count": 36,
   "metadata": {},
   "outputs": [],
   "source": [
    "length = 2500\n",
    "train_X = arr[:length]\n",
    "train_Y = y[:length]\n",
    "\n",
    "test_X = arr[length:]\n",
    "text_Y = y[length:]"
   ]
  },
  {
   "cell_type": "code",
   "execution_count": 37,
   "metadata": {},
   "outputs": [
    {
     "name": "stdout",
     "output_type": "stream",
     "text": [
      "(2500, 34)\n"
     ]
    }
   ],
   "source": [
    "print(train_X.shape)\n",
    "class OLS:\n",
    "    def __init__(self) -> None:\n",
    "        self.W = None\n",
    "    def fit(self, X: np.ndarray, y: np.ndarray):\n",
    "        XXT = X.T @ X\n",
    "        inv = np.linalg.inv(XXT)\n",
    "        self.W = inv@X.T@y.reshape((X.shape[0], 1))\n",
    "        # shape of W will be 34 x 1 in this case\n",
    "\n",
    "    def predict(self, x: np.ndarray):\n",
    "        return x.reshape((1,34))@self.W\n",
    "\n"
   ]
  },
  {
   "cell_type": "code",
   "execution_count": 38,
   "metadata": {},
   "outputs": [],
   "source": [
    "model = OLS()\n",
    "model.fit(train_X, train_Y)"
   ]
  },
  {
   "cell_type": "code",
   "execution_count": null,
   "metadata": {},
   "outputs": [],
   "source": []
  }
 ],
 "metadata": {
  "kernelspec": {
   "display_name": "Python 3",
   "language": "python",
   "name": "python3"
  },
  "language_info": {
   "codemirror_mode": {
    "name": "ipython",
    "version": 3
   },
   "file_extension": ".py",
   "mimetype": "text/x-python",
   "name": "python",
   "nbconvert_exporter": "python",
   "pygments_lexer": "ipython3",
   "version": "3.10.12"
  }
 },
 "nbformat": 4,
 "nbformat_minor": 2
}
